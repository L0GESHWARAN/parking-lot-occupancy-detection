{
 "cells": [
  {
   "cell_type": "markdown",
   "metadata": {},
   "source": [
    "## This program builds the VGG16 convolutional neural network model for image classification. Once built the model is stored as car_v16.h5 file in the same directory."
   ]
  },
  {
   "cell_type": "code",
   "execution_count": 1,
   "metadata": {},
   "outputs": [
    {
     "name": "stdout",
     "output_type": "stream",
     "text": [
      "importing Jupyter notebook from Config.ipynb\n"
     ]
    }
   ],
   "source": [
    "# Importing the Keras libraries and packages\n",
    "from keras.layers import *\n",
    "from keras.optimizers import *\n",
    "from keras.applications import *\n",
    "from keras import applications\n",
    "from keras.models import Model\n",
    "from keras.preprocessing.image import ImageDataGenerator\n",
    "from keras.callbacks import ModelCheckpoint, EarlyStopping\n",
    "from keras import backend as k\n",
    "import matplotlib.pyplot as plt\n",
    "from keras import optimizers \n",
    "#remove warnings \n",
    "import warnings\n",
    "warnings.filterwarnings('ignore')\n",
    "#import config file\n",
    "import import_ipynb\n",
    "import Config as c\n",
    "import tensorflow as tf"
   ]
  },
  {
   "cell_type": "code",
   "execution_count": 24,
   "metadata": {},
   "outputs": [],
   "source": [
    "# Pre-Trained CNN Model using imagenet dataset for pre-trained weights\n",
    "base_model = tf.keras.applications.vgg16.VGG16(weights = \"imagenet\", include_top=False, input_shape = (c.image_width, c.image_height, c.channels))\n",
    "# Freeze layer that do not need to be trained\n",
    "for layer in base_model.layers[:10]:\n",
    "    layer.trainable = False"
   ]
  },
  {
   "cell_type": "code",
   "execution_count": 25,
   "metadata": {},
   "outputs": [],
   "source": [
    "# Top Model Block\n",
    "x = base_model.output\n",
    "x = Flatten()(x)\n",
    "predictions = Dense(c.num_classes, activation=\"softmax\")(x)"
   ]
  },
  {
   "cell_type": "code",
   "execution_count": 26,
   "metadata": {},
   "outputs": [],
   "source": [
    "# add your top layer block to your base model\n",
    "classifier = Model(base_model.input, predictions)\n",
    "#print(classifier.summary())"
   ]
  },
  {
   "cell_type": "code",
   "execution_count": 27,
   "metadata": {},
   "outputs": [],
   "source": [
    "# compiling the CNN\n",
    "classifier.compile(optimizer = tf.keras.optimizers.SGD(lr=0.0001, momentum=0.9), loss = 'categorical_crossentropy', metrics = ['accuracy'])"
   ]
  },
  {
   "cell_type": "code",
   "execution_count": 28,
   "metadata": {},
   "outputs": [
    {
     "name": "stdout",
     "output_type": "stream",
     "text": [
      "Found 398 images belonging to 2 classes.\n",
      "Found 164 images belonging to 2 classes.\n"
     ]
    }
   ],
   "source": [
    "# Read Data and Augment it: Make sure to select augmentations that are appropriate to your images.\n",
    "# To save augmentations un-comment save lines and add to your flow parameters.\n",
    "img_width, img_height = c.image_width, c.image_height\n",
    "train_data_dir = c.train_data_dir\n",
    "validation_data_dir = c.validation_data_dir\n",
    "batch_size = c.batch_size\n",
    "epochs = 15\n",
    "num_classes = c.num_classes\n",
    "\n",
    "# Initiate the train and test generators with data Augumentation\n",
    "\n",
    "\n",
    "train_datagen = ImageDataGenerator(\n",
    "rescale = c.rescale,\n",
    "horizontal_flip = True,\n",
    "fill_mode = \"nearest\",\n",
    "zoom_range = c.zoom_range,\n",
    "width_shift_range = c.width_shift_range,\n",
    "height_shift_range=c.height_shift_range,\n",
    "rotation_range=c.rotation_range)\n",
    "\n",
    "test_datagen = ImageDataGenerator(\n",
    "rescale = c.rescale,\n",
    "horizontal_flip = True,\n",
    "fill_mode = \"nearest\",\n",
    "zoom_range = c.zoom_range,\n",
    "width_shift_range = c.width_shift_range,\n",
    "height_shift_range=c.height_shift_range,\n",
    "rotation_range=c.rotation_range)\n",
    "\n",
    "train_generator = train_datagen.flow_from_directory(\n",
    "train_data_dir,\n",
    "target_size = (img_height, img_width),\n",
    "batch_size = batch_size,\n",
    "class_mode = \"categorical\")\n",
    "\n",
    "validation_generator = test_datagen.flow_from_directory(\n",
    "validation_data_dir,\n",
    "target_size = (img_height, img_width),\n",
    "batch_size = batch_size,\n",
    "class_mode = \"categorical\")"
   ]
  },
  {
   "cell_type": "code",
   "execution_count": 29,
   "metadata": {},
   "outputs": [],
   "source": [
    "# Define when to stop training the model and then store the best model as car1.h5\n",
    "# This will be passed while fitting the model as callbacks methods.\n",
    "checkpoint = ModelCheckpoint(c.model_file, monitor='val_accuracy', verbose=1, mode='auto',save_freq =15)\n",
    "early = EarlyStopping(monitor='val_accuracy', min_delta=0, patience=10, verbose=1, mode='auto') "
   ]
  },
  {
   "cell_type": "code",
   "execution_count": 30,
   "metadata": {},
   "outputs": [
    {
     "name": "stdout",
     "output_type": "stream",
     "text": [
      "398\n",
      "164\n"
     ]
    }
   ],
   "source": [
    "# Find the count for train and test images\n",
    "import os\n",
    "train_samples = 0\n",
    "validation_samples = 0\n",
    "\n",
    "cwd = os.getcwd()\n",
    "folder = c.train_data_dir\n",
    "for sub_folder in os.listdir(folder):\n",
    "    path, dirs, files = next(os.walk(os.path.join(folder,sub_folder)))\n",
    "    train_samples += len(files)\n",
    "\n",
    "\n",
    "folder = c.validation_data_dir\n",
    "for sub_folder in os.listdir(folder):\n",
    "    path, dirs, files = next(os.walk(os.path.join(folder,sub_folder)))\n",
    "    validation_samples += len(files)\n",
    "\n",
    "print(train_samples)\n",
    "print(validation_samples)"
   ]
  },
  {
   "cell_type": "code",
   "execution_count": 31,
   "metadata": {
    "scrolled": false
   },
   "outputs": [
    {
     "name": "stdout",
     "output_type": "stream",
     "text": [
      "Epoch 1/15\n",
      "12/12 [==============================] - 62s 5s/step - loss: 0.6071 - accuracy: 0.6202 - val_loss: 0.4473 - val_accuracy: 0.7688\n",
      "Epoch 2/15\n",
      " 2/12 [====>.........................] - ETA: 47s - loss: 0.5680 - accuracy: 0.6406\n",
      "Epoch 2: saving model to car_v16.h5\n",
      "12/12 [==============================] - 65s 5s/step - loss: 0.3594 - accuracy: 0.7896 - val_loss: 0.3208 - val_accuracy: 0.8625\n",
      "Epoch 3/15\n",
      " 5/12 [===========>..................] - ETA: 27s - loss: 0.2913 - accuracy: 0.8873\n",
      "Epoch 3: saving model to car_v16.h5\n",
      "12/12 [==============================] - 63s 5s/step - loss: 0.2415 - accuracy: 0.9235 - val_loss: 0.2487 - val_accuracy: 0.9187\n",
      "Epoch 4/15\n",
      " 8/12 [===================>..........] - ETA: 16s - loss: 0.1649 - accuracy: 0.9580\n",
      "Epoch 4: saving model to car_v16.h5\n",
      "12/12 [==============================] - 62s 5s/step - loss: 0.1708 - accuracy: 0.9536 - val_loss: 0.2169 - val_accuracy: 0.9312\n",
      "Epoch 5/15\n",
      "11/12 [==========================>...] - ETA: 4s - loss: 0.1364 - accuracy: 0.9602\n",
      "Epoch 5: saving model to car_v16.h5\n",
      "12/12 [==============================] - 64s 5s/step - loss: 0.1349 - accuracy: 0.9609 - val_loss: 0.1762 - val_accuracy: 0.9125\n",
      "Epoch 6/15\n",
      "12/12 [==============================] - 62s 5s/step - loss: 0.1221 - accuracy: 0.9672 - val_loss: 0.1693 - val_accuracy: 0.9438\n",
      "Epoch 7/15\n",
      " 2/12 [====>.........................] - ETA: 47s - loss: 0.0733 - accuracy: 0.9844\n",
      "Epoch 7: saving model to car_v16.h5\n",
      "12/12 [==============================] - 62s 5s/step - loss: 0.1046 - accuracy: 0.9672 - val_loss: 0.1780 - val_accuracy: 0.9375\n",
      "Epoch 8/15\n",
      " 5/12 [===========>..................] - ETA: 31s - loss: 0.0874 - accuracy: 0.9750\n",
      "Epoch 8: saving model to car_v16.h5\n",
      "12/12 [==============================] - 62s 5s/step - loss: 0.0908 - accuracy: 0.9727 - val_loss: 0.1722 - val_accuracy: 0.9312\n",
      "Epoch 9/15\n",
      " 8/12 [===================>..........] - ETA: 18s - loss: 0.0966 - accuracy: 0.9664\n",
      "Epoch 9: saving model to car_v16.h5\n",
      "12/12 [==============================] - 61s 5s/step - loss: 0.0907 - accuracy: 0.9699 - val_loss: 0.1691 - val_accuracy: 0.9375\n",
      "Epoch 10/15\n",
      "11/12 [==========================>...] - ETA: 4s - loss: 0.0807 - accuracy: 0.9744\n",
      "Epoch 10: saving model to car_v16.h5\n",
      "12/12 [==============================] - 63s 5s/step - loss: 0.0785 - accuracy: 0.9754 - val_loss: 0.1733 - val_accuracy: 0.9250\n",
      "Epoch 11/15\n",
      "12/12 [==============================] - 61s 5s/step - loss: 0.0575 - accuracy: 0.9836 - val_loss: 0.1778 - val_accuracy: 0.9312\n",
      "Epoch 12/15\n",
      " 2/12 [====>.........................] - ETA: 20s - loss: 0.0385 - accuracy: 1.0000\n",
      "Epoch 12: saving model to car_v16.h5\n",
      "12/12 [==============================] - 61s 5s/step - loss: 0.0593 - accuracy: 0.9863 - val_loss: 0.1440 - val_accuracy: 0.9438\n",
      "Epoch 13/15\n",
      " 5/12 [===========>..................] - ETA: 32s - loss: 0.0364 - accuracy: 0.9812\n",
      "Epoch 13: saving model to car_v16.h5\n",
      "12/12 [==============================] - 61s 5s/step - loss: 0.0645 - accuracy: 0.9672 - val_loss: 0.1498 - val_accuracy: 0.9187\n",
      "Epoch 14/15\n",
      " 8/12 [===================>..........] - ETA: 19s - loss: 0.0490 - accuracy: 0.9883\n",
      "Epoch 14: saving model to car_v16.h5\n",
      "12/12 [==============================] - 64s 5s/step - loss: 0.0522 - accuracy: 0.9836 - val_loss: 0.1674 - val_accuracy: 0.9312\n",
      "Epoch 15/15\n",
      "11/12 [==========================>...] - ETA: 4s - loss: 0.0557 - accuracy: 0.9790\n",
      "Epoch 15: saving model to car_v16.h5\n",
      "12/12 [==============================] - 62s 5s/step - loss: 0.0522 - accuracy: 0.9809 - val_loss: 0.1700 - val_accuracy: 0.9125\n"
     ]
    }
   ],
   "source": [
    "# Fit the model to the data\n",
    "history_object = classifier.fit_generator(\n",
    "train_generator,\n",
    "steps_per_epoch = train_samples//batch_size,\n",
    "epochs = 15,\n",
    "callbacks = [checkpoint, early],\n",
    "validation_data = validation_generator,\n",
    "validation_steps = validation_samples//batch_size\n",
    ")"
   ]
  },
  {
   "cell_type": "code",
   "execution_count": 34,
   "metadata": {},
   "outputs": [
    {
     "name": "stdout",
     "output_type": "stream",
     "text": [
      "dict_keys(['loss', 'accuracy', 'val_loss', 'val_accuracy'])\n"
     ]
    },
    {
     "data": {
      "image/png": "[encoded data removed]",
      "text/plain": [
       "<Figure size 432x288 with 1 Axes>"
      ]
     },
     "metadata": {
      "needs_background": "light"
     },
     "output_type": "display_data"
    }
   ],
   "source": [
    "%matplotlib inline\n",
    "print(history_object.history.keys())\n",
    "plt.plot(history_object.history['accuracy'])\n",
    "plt.plot(history_object.history['val_accuracy'])\n",
    "plt.title('model accuracy')\n",
    "plt.ylabel('accuracy')\n",
    "plt.xlabel('epoch')\n",
    "plt.legend(['train', 'test'], loc='upper left')\n",
    "plt.show()"
   ]
  },
  {
   "cell_type": "code",
   "execution_count": 35,
   "metadata": {},
   "outputs": [
    {
     "data": {
      "image/png": "[encoded data removed]",
      "text/plain": [
       "<Figure size 432x288 with 1 Axes>"
      ]
     },
     "metadata": {
      "needs_background": "light"
     },
     "output_type": "display_data"
    }
   ],
   "source": [
    "plt.plot(history_object.history['loss'])\n",
    "plt.plot(history_object.history['val_loss'])\n",
    "plt.title('model loss')\n",
    "plt.ylabel('loss')\n",
    "plt.xlabel('epoch')\n",
    "plt.legend(['train', 'test'], loc='upper left')\n",
    "plt.show()"
   ]
  },
  {
   "cell_type": "code",
   "execution_count": null,
   "metadata": {},
   "outputs": [],
   "source": []
  }
 ],
 "metadata": {
  "kernelspec": {
   "display_name": "Python 3 (ipykernel)",
   "language": "python",
   "name": "python3"
  },
  "language_info": {
   "codemirror_mode": {
    "name": "ipython",
    "version": 3
   },
   "file_extension": ".py",
   "mimetype": "text/x-python",
   "name": "python",
   "nbconvert_exporter": "python",
   "pygments_lexer": "ipython3",
   "version": "3.9.12"
  }
 },
 "nbformat": 4,
 "nbformat_minor": 2
}
